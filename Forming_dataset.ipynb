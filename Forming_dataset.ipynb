{
 "cells": [
  {
   "cell_type": "code",
   "execution_count": 1,
   "metadata": {},
   "outputs": [],
   "source": [
    "import json\n",
    "from tqdm import tqdm_notebook"
   ]
  },
  {
   "cell_type": "code",
   "execution_count": 2,
   "metadata": {},
   "outputs": [],
   "source": [
    "def get_reaction(json_path: str)->list:\n",
    "    reactions = []\n",
    "    with open(json_path) as fsream:\n",
    "        for line in fsream:\n",
    "            reactions.append(json.loads(line))\n",
    "    return reactions\n",
    "\n",
    "def get_vocab_from_tokenized(reations: list):\n",
    "    from collections import Counter\n",
    "    counter = Counter()\n",
    "    for react in tqdm_notebook(reactions):\n",
    "        for char in react['reaction_core'].split():\n",
    "            counter[char] += 1\n",
    "        for reag in react['reactants']:\n",
    "            for char in reag.split():\n",
    "                counter[char] += 1\n",
    "        for char in react['products'][0].split():\n",
    "            counter[char] += 1\n",
    "    return counter\n",
    "        \n",
    "def get_reaction_str(reaction: dict)->str:\n",
    "    result = reaction['reactants'][0]\n",
    "    if len(reaction['reactants']) == 2:\n",
    "        result += \" . \" + reaction['reactants'][1]\n",
    "    result += \" >> \" + reaction['products'][0]\n",
    "    return result\n",
    "    \n",
    "def filter_by_tokens(reactions: list, tokens: set)->list:\n",
    "    result = []\n",
    "    for react in tqdm_notebook(reactions):\n",
    "        if get_tokenset(react) <= tokens:\n",
    "            result.append(react)\n",
    "    return result\n",
    "\n",
    "def get_tokenset(reaction: dict)->set:\n",
    "    result = set()\n",
    "    for char in reaction['reaction_core'].split():\n",
    "        result.add(char)\n",
    "    for reag in reaction['reactants']:\n",
    "        for char in reag.split():\n",
    "            result.add(char)\n",
    "    for char in reaction['products'][0].split():\n",
    "        result.add(char)\n",
    "    return result\n",
    "\n",
    "def vocab_to_tokenset(vocab: dict, threshold: int=0)->set:\n",
    "    result = set()\n",
    "    for k, v in vocab.items():\n",
    "        if v >= threshold:\n",
    "            result.add(k)\n",
    "    return result\n",
    "\n",
    "def to_jsonl(reactions: list, outfile: str):\n",
    "    with open(outfile, 'w') as fstream:\n",
    "        for r in reactions:\n",
    "            json.dump(r, fstream)\n",
    "            fstream.write('\\n')"
   ]
  },
  {
   "cell_type": "code",
   "execution_count": 3,
   "metadata": {},
   "outputs": [],
   "source": [
    "reactions = get_reaction('tokenized_reactions.json')"
   ]
  },
  {
   "cell_type": "code",
   "execution_count": 8,
   "metadata": {},
   "outputs": [
    {
     "data": {
      "text/plain": [
       "[{'reaxys_id': 1098214,\n",
       "  'molecule_name': 'hydrogenchloride',\n",
       "  'smiles': '[H]Cl'}]"
      ]
     },
     "execution_count": 8,
     "metadata": {},
     "output_type": "execute_result"
    }
   ],
   "source": [
    "reactions[0]['meta']['reagents']"
   ]
  },
  {
   "cell_type": "code",
   "execution_count": 46,
   "metadata": {},
   "outputs": [
    {
     "data": {
      "application/vnd.jupyter.widget-view+json": {
       "model_id": "acd01b7e7a694c91b0903812c08de1ca",
       "version_major": 2,
       "version_minor": 0
      },
      "text/plain": [
       "HBox(children=(IntProgress(value=0, max=380733), HTML(value='')))"
      ]
     },
     "metadata": {},
     "output_type": "display_data"
    },
    {
     "name": "stdout",
     "output_type": "stream",
     "text": [
      "\n"
     ]
    }
   ],
   "source": [
    "vocab = get_vocab_from_tokenized(reactions)\n",
    "vocab_list = sorted(vocab.items(), key=lambda x: x[1])"
   ]
  },
  {
   "cell_type": "code",
   "execution_count": 47,
   "metadata": {},
   "outputs": [],
   "source": [
    "total_chars = sum([v for k, v in vocab.items()])\n",
    "vocab_freq = {k: v / total_chars for (k, v) in vocab.items()}"
   ]
  },
  {
   "cell_type": "code",
   "execution_count": 54,
   "metadata": {},
   "outputs": [],
   "source": [
    "filter_set = vocab_to_tokenset(vocab, 10000)"
   ]
  },
  {
   "cell_type": "code",
   "execution_count": 58,
   "metadata": {},
   "outputs": [
    {
     "data": {
      "application/vnd.jupyter.widget-view+json": {
       "model_id": "4f132085c36947bcaa38b7c53cbf2f26",
       "version_major": 2,
       "version_minor": 0
      },
      "text/plain": [
       "HBox(children=(IntProgress(value=0, max=380733), HTML(value='')))"
      ]
     },
     "metadata": {},
     "output_type": "display_data"
    },
    {
     "name": "stdout",
     "output_type": "stream",
     "text": [
      "\n"
     ]
    }
   ],
   "source": [
    "filtered = filter_by_tokens(reactions, filter_set)"
   ]
  },
  {
   "cell_type": "code",
   "execution_count": 59,
   "metadata": {},
   "outputs": [
    {
     "data": {
      "text/plain": [
       "374394"
      ]
     },
     "execution_count": 59,
     "metadata": {},
     "output_type": "execute_result"
    }
   ],
   "source": [
    "len(filtered)"
   ]
  },
  {
   "cell_type": "code",
   "execution_count": 62,
   "metadata": {},
   "outputs": [],
   "source": [
    "to_jsonl(filtered, 'filtered.json')"
   ]
  },
  {
   "cell_type": "code",
   "execution_count": 66,
   "metadata": {},
   "outputs": [
    {
     "data": {
      "text/plain": [
       "'[H] c 1 c ( [H] ) c ( [H] ) c ( N ( [H] ) C ( = O ) C ( [H] ) ( [H] ) [H] ) c ( - c 2 c ( [H] ) c 3 c ( [H] ) c ( [H] ) c ( [H] ) c ( [H] ) c 3 n 2 [H] ) c 1 [H]'"
      ]
     },
     "execution_count": 66,
     "metadata": {},
     "output_type": "execute_result"
    }
   ],
   "source": [
    "reactions[0]['reactants'][0] + \" . \" + reactions"
   ]
  },
  {
   "cell_type": "code",
   "execution_count": 74,
   "metadata": {},
   "outputs": [
    {
     "data": {
      "text/plain": [
       "'[H] c 1 c ( [H] ) c ( [H] ) c ( N ( [H] ) [H] ) c ( C # C c 2 c ( [H] ) c ( Cl ) c ( [H] ) c ( [H] ) c 2 N ( [H] ) C ( = O ) C ( [H] ) ( [H] ) [H] ) c 1 [H] >> [H] c 1 c ( Cl ) c ( [H] ) c 2 c ( n c ( C ( [H] ) ( [H] ) [H] ) n 3 c 4 c ( [H] ) c ( [H] ) c ( [H] ) c ( [H] ) c 4 c ( [H] ) c 2 3 ) c 1 [H]'"
      ]
     },
     "execution_count": 74,
     "metadata": {},
     "output_type": "execute_result"
    }
   ],
   "source": [
    "get_reaction_str(reactions[3])"
   ]
  },
  {
   "cell_type": "code",
   "execution_count": null,
   "metadata": {},
   "outputs": [],
   "source": [
    "rea"
   ]
  }
 ],
 "metadata": {
  "kernelspec": {
   "display_name": "Python 3",
   "language": "python",
   "name": "python3"
  },
  "language_info": {
   "codemirror_mode": {
    "name": "ipython",
    "version": 3
   },
   "file_extension": ".py",
   "mimetype": "text/x-python",
   "name": "python",
   "nbconvert_exporter": "python",
   "pygments_lexer": "ipython3",
   "version": "3.7.4"
  }
 },
 "nbformat": 4,
 "nbformat_minor": 2
}
