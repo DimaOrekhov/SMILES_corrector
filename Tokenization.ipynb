{
 "cells": [
  {
   "cell_type": "code",
   "execution_count": 2,
   "metadata": {},
   "outputs": [],
   "source": [
    "import json\n",
    "from tqdm import tqdm_notebook\n",
    "import operator\n",
    "import numpy as np\n",
    "from rdkit import Chem\n",
    "from rdkit.Chem import AllChem, Draw\n",
    "from rdkit.Chem import rdFMCS\n",
    "\n",
    "LEVEL1 = set([\"C\", \"H\", \"O\", \"N\", \"c\", \"h\", \"o\", \"n\"])\n",
    "LEVEL2 = set([\"Br\", \"S\", \"Cl\", \"B\", \"F\", \"br\", \"s\", \"cl\", \"b\", \"f\"])\n",
    "LEVEL3 = set([\"Si\", \"I\", \"P\", \"si\", \"i\", \"p\"])\n",
    "LEVEL4 = set([\"Sn\", \"Se\", \"Mg\", \"sn\", \"se\", \"mg\"])"
   ]
  },
  {
   "cell_type": "code",
   "execution_count": 2,
   "metadata": {},
   "outputs": [],
   "source": [
    "reactions = []\n",
    "with open('reactions_02_10_2019.json') as fstream:\n",
    "    for line in fstream:\n",
    "        reactions.append(json.loads(line))"
   ]
  },
  {
   "cell_type": "code",
   "execution_count": 7,
   "metadata": {},
   "outputs": [],
   "source": [
    "def is_one_to_one(reaction: dict) -> bool:\n",
    "    return len(reaction['reactants']) == 1 and len(reaction['products']) == 1\n",
    "\n",
    "\n",
    "def is_two_to_one(reaction: dict) -> bool:\n",
    "    return len(reaction['reactants']) == 2 and len(reaction['products']) == 1\n",
    "\n",
    "\n",
    "def filter_reactions(reactions: list) -> list:\n",
    "    \"\"\"\n",
    "    Отбирает реакции 1 реагент -> 1 продукт; 2 реагента -> 2 продукта\n",
    "    Из каждой группы дубликатов берет только одну реакцию, первую встреченную\n",
    "    \n",
    "    reactions - список реакций, где каждый элемент - словарик реакции\n",
    "    \"\"\"\n",
    "    ids = set()\n",
    "    filtered = []\n",
    "    for reaction in reactions:\n",
    "        if reaction['reaxys_id'] not in ids:\n",
    "            if is_one_to_one(reaction) or is_two_to_one(reaction):\n",
    "                filtered.append(reaction)\n",
    "                ids.add(reaction['reaxys_id'])\n",
    "    return filtered\n",
    "\n",
    "\n",
    "def find_duplicated(reactions: list) -> dict:\n",
    "    \"\"\"\n",
    "    Находит группы дубликатов, возвращает словарь \n",
    "    \"\"\"\n",
    "    from collections import defaultdict\n",
    "    r_groups = defaultdict(list)\n",
    "    for reaction in reactions:\n",
    "        r_groups[reaction['reaxys_id']].append(reaction)\n",
    "    return {k: v for k, v in r_groups.items() if len(v) > 1}\n",
    "\n",
    "\n",
    "def to_one_json(reactions: list, p_key: str='reaxys_id') -> dict:\n",
    "    \"\"\"\n",
    "    Преобразует список реакций в один словарь, который можно сохранить\n",
    "    в json. Используются ключ 'reaxys_id'\n",
    "    \"\"\"\n",
    "    result = {}\n",
    "    for reaction in reactions:\n",
    "        curr_key = reaction[p_key]\n",
    "        del reaction[p_key]\n",
    "        result[p_key] = reaction\n",
    "    return result\n",
    "\n",
    "def draw_mol(mol):\n",
    "    \"\"\"\n",
    "    Рисует молекулу\n",
    "    \"\"\"\n",
    "    AllChem.Compute2DCoords(mol)\n",
    "    return Draw.MolToImage(mol)\n",
    "\n",
    "\n",
    "def get_atomic_vocab(reactions: list) -> (dict, list):\n",
    "    from collections import defaultdict\n",
    "    cant_parse = []\n",
    "    res = defaultdict(int)\n",
    "    for reaction in tqdm_notebook(reactions):\n",
    "        lhs, rhs = reaction['reaction_core'].split('>>')\n",
    "        lhs = Chem.MolFromSmarts(lhs)\n",
    "        rhs = Chem.MolFromSmarts(rhs)\n",
    "        if lhs is None or rhs is None:\n",
    "            cant_parse.apend(reaction)\n",
    "        for atom in lhs.GetAtoms():\n",
    "            res[atom.GetSymbol()] += 1\n",
    "        for atom in rhs.GetAtoms():\n",
    "            res[atom.GetSymbol()] += 1\n",
    "    return res, cant_parse\n",
    "\n",
    "\n",
    "def get_reaction_atomic_vocab(reactions: list) -> (dict, list):\n",
    "    from collections import defaultdict\n",
    "    cant_parse = []\n",
    "    res = defaultdict(int)\n",
    "    for reaction in tqdm_notebook(reactions):\n",
    "        for reactant in (reaction['reactants'] + reaction['products']):\n",
    "            reactant = Chem.MolFromSmarts(reactant)\n",
    "            if reactant is None:\n",
    "                cant_parse.append(reaction)\n",
    "                break\n",
    "            for atom in reactant.GetAtoms():\n",
    "                res[atom.GetSymbol()] += 1\n",
    "    return res, cant_parse\n",
    "\n",
    "\n",
    "def are_equal(mol1, mol2):\n",
    "    \"\"\"\n",
    "    Равенство для двух молекул\n",
    "    \"\"\"\n",
    "    mols = [mol1, mol2]\n",
    "    n_atoms1, n_atoms2 = map(lambda x: x.GetNumAtoms(), mols)\n",
    "    n_bonds1, n_bonds2 = map(lambda x: x.GetNumBonds(), mols)\n",
    "    if n_atoms1 != n_atoms2 or n_bonds1 != n_bonds2:\n",
    "        return False\n",
    "    res = rdFMCS.FindMCS(mols)\n",
    "    if n_atoms1 == res.numAtoms and n_bonds1 == res.numBonds:\n",
    "        return True\n",
    "    return False"
   ]
  },
  {
   "cell_type": "code",
   "execution_count": 4,
   "metadata": {},
   "outputs": [],
   "source": [
    "filtered = filter_reactions(reactions)"
   ]
  },
  {
   "cell_type": "code",
   "execution_count": 7,
   "metadata": {},
   "outputs": [
    {
     "data": {
      "application/vnd.jupyter.widget-view+json": {
       "model_id": "2817029351d04cfbbcc482feaf1c1ba3",
       "version_major": 2,
       "version_minor": 0
      },
      "text/plain": [
       "HBox(children=(IntProgress(value=0, max=385557), HTML(value='')))"
      ]
     },
     "metadata": {},
     "output_type": "display_data"
    },
    {
     "name": "stdout",
     "output_type": "stream",
     "text": [
      "\n"
     ]
    }
   ],
   "source": [
    "vocab, cantparse = get_atomic_vocab(filtered)"
   ]
  },
  {
   "cell_type": "code",
   "execution_count": 8,
   "metadata": {},
   "outputs": [
    {
     "name": "stdout",
     "output_type": "stream",
     "text": [
      "[('C', 5867840), ('H', 4023211), ('O', 1268220), ('N', 768823), ('Br', 97035), ('S', 89774), ('Cl', 66620), ('B', 66356), ('F', 56382), ('Si', 22699), ('I', 13310), ('P', 11363), ('Sn', 1943), ('Se', 1390), ('Mg', 914), ('As', 307), ('Sb', 226), ('Li', 196), ('Te', 194), ('Ge', 156), ('Zn', 155), ('Au', 145), ('Cu', 115), ('Cr', 106), ('Ni', 79), ('Hg', 71), ('W', 71), ('Ti', 57), ('Co', 55), ('Al', 49), ('Pb', 40), ('Pd', 35), ('Ir', 35), ('Na', 29), ('Bi', 27), ('Zr', 26), ('Mn', 22), ('Rh', 22), ('Cd', 19), ('Tl', 14), ('Mo', 13), ('*', 12), ('Ag', 11), ('K', 10), ('Ce', 10), ('Ga', 9), ('Ru', 8), ('Re', 8), ('Fe', 7), ('In', 7), ('V', 7), ('Hf', 4), ('U', 4), ('Os', 3), ('Tc', 2), ('Pr', 2), ('Ta', 2), ('Nd', 1)]\n"
     ]
    }
   ],
   "source": [
    "print(sorted(vocab.items(), key=operator.itemgetter(1), reverse=True))"
   ]
  },
  {
   "cell_type": "code",
   "execution_count": 9,
   "metadata": {},
   "outputs": [
    {
     "data": {
      "text/plain": [
       "0"
      ]
     },
     "execution_count": 9,
     "metadata": {},
     "output_type": "execute_result"
    }
   ],
   "source": [
    "len(cantparse)"
   ]
  },
  {
   "cell_type": "code",
   "execution_count": 110,
   "metadata": {},
   "outputs": [
    {
     "data": {
      "text/plain": [
       "113.84371441836097"
      ]
     },
     "execution_count": 110,
     "metadata": {},
     "output_type": "execute_result"
    }
   ],
   "source": [
    "# Средняя длина\n",
    "np.mean([len(reaction['reaction_core']) for reaction in filtered])"
   ]
  },
  {
   "cell_type": "code",
   "execution_count": 8,
   "metadata": {},
   "outputs": [
    {
     "data": {
      "application/vnd.jupyter.widget-view+json": {
       "model_id": "037ec4eca883456e96718cf1f176ce6d",
       "version_major": 2,
       "version_minor": 0
      },
      "text/plain": [
       "HBox(children=(IntProgress(value=0, max=385557), HTML(value='')))"
      ]
     },
     "metadata": {},
     "output_type": "display_data"
    },
    {
     "name": "stdout",
     "output_type": "stream",
     "text": [
      "\n"
     ]
    }
   ],
   "source": [
    "rvocab, cantparse_r = get_reaction_atomic_vocab(filtered)"
   ]
  },
  {
   "cell_type": "code",
   "execution_count": 9,
   "metadata": {},
   "outputs": [
    {
     "data": {
      "text/plain": [
       "0"
      ]
     },
     "execution_count": 9,
     "metadata": {},
     "output_type": "execute_result"
    }
   ],
   "source": [
    "len(cantparse_r)"
   ]
  },
  {
   "cell_type": "code",
   "execution_count": 10,
   "metadata": {},
   "outputs": [
    {
     "name": "stdout",
     "output_type": "stream",
     "text": [
      "[('H', 19278461), ('C', 16681109), ('O', 2849947), ('N', 1718850), ('F', 275624), ('S', 188127), ('Cl', 166943), ('Br', 136031), ('B', 63795), ('Si', 46388), ('I', 18103), ('P', 17814), ('Se', 2367), ('Sn', 2102), ('Mg', 786), ('As', 341), ('Sb', 218), ('Te', 214), ('Zn', 185), ('Li', 168), ('Ge', 163), ('Au', 135), ('Cu', 114), ('Cr', 106), ('Ni', 93), ('Ir', 76), ('W', 75), ('Hg', 67), ('Co', 60), ('Ti', 57), ('Al', 44), ('Pb', 38), ('Pd', 35), ('*', 34), ('Na', 28), ('Zr', 26), ('Bi', 25), ('Mn', 22), ('Rh', 22), ('Ce', 18), ('Cd', 18), ('Mo', 13), ('Tl', 12), ('K', 10), ('Ga', 9), ('Ru', 8), ('Re', 8), ('In', 7), ('Ag', 7), ('V', 7), ('Fe', 6), ('Hf', 4), ('U', 4), ('Os', 3), ('Tc', 2), ('Nb', 2), ('Pr', 2), ('Ta', 2), ('Nd', 1)]\n"
     ]
    }
   ],
   "source": [
    "print(sorted(rvocab.items(), key=operator.itemgetter(1), reverse=True))"
   ]
  },
  {
   "cell_type": "code",
   "execution_count": 79,
   "metadata": {},
   "outputs": [],
   "source": [
    "def smi_tokenizer(smi):\n",
    "    \"\"\"\n",
    "    Tokenize a SMILES molecule or reaction\n",
    "    \n",
    "    Что я изменил:\n",
    "    1. добавил поиск H: \"...|H|...\"\n",
    "    2. \"...|S|...\" -> \"...|Si?|...\"\n",
    "    3. \"...|>|...\" -> \"...|>>|...\", символ реакции - один токен\n",
    "    \n",
    "    * У них есть такой паттерн \\[[^\\]]+], то есть все, что обернуто в квадратные скобки - один токен,\n",
    "    видел такое и в других статьях. Не очень понимаю только, почему паттерн не \\[[^\\]]+\\]. Разве не нужно\n",
    "    экранировать вторую закрывающую скобку тоже? На всякий случай, я экранировал вторую скобку тоже.\n",
    "    \"\"\"\n",
    "    import re\n",
    "    pattern =  \"(\\[[^\\]]+]|Br?|Cl?|H|N|O|Si?|P|F|I|b|c|n|o|s|p|\\(|\\)|\\.|=|#|-|\\+|\\\\\\\\|\\/|:|~|@|\\?|>>|\\*|\\$|\\%[0-9]{2}|[0-9])\"\n",
    "    regex = re.compile(pattern)\n",
    "    tokens = [token for token in regex.findall(smi)]\n",
    "    #assert smi == ''.join(tokens)\n",
    "    return ' '.join(tokens)"
   ]
  },
  {
   "cell_type": "code",
   "execution_count": 12,
   "metadata": {},
   "outputs": [],
   "source": [
    "def get_atom_set(mol) -> set:\n",
    "    res = set()\n",
    "    for atom in mol.GetAtoms():\n",
    "        res.add(atom.GetSymbol())\n",
    "    return res\n",
    "\n",
    "\n",
    "def filter_by_atoms(reactions: list, atom_set: set) -> list:\n",
    "    filtered = []\n",
    "    for reaction in tqdm_notebook(reactions):\n",
    "        lhs, rhs = reaction['reaction_core'].split('>>')\n",
    "        lhs = Chem.MolFromSmarts(lhs)\n",
    "        rhs = Chem.MolFromSmarts(rhs)\n",
    "        lhs_set = get_atom_set(lhs)\n",
    "        rhs_set = get_atom_set(rhs)\n",
    "        if (lhs_set | rhs_set) <= atom_set:\n",
    "            filtered.append(reaction)\n",
    "    return filtered\n",
    "\n",
    "\n",
    "def filter_reactions_by_atoms(reactions: list, atom_set: set) -> list:\n",
    "    filtered = []\n",
    "    for reaction in tqdm_notebook(reactions):\n",
    "        curr_set = set()\n",
    "        for reagent in (reaction['reactants'] + reaction['products']):\n",
    "            tmp = get_atom_set(Chem.MolFromSmarts(reagent))\n",
    "            curr_set = curr_set | tmp\n",
    "        if curr_set <= atom_set:\n",
    "            filtered.append(reaction)\n",
    "    return filtered"
   ]
  },
  {
   "cell_type": "code",
   "execution_count": 211,
   "metadata": {},
   "outputs": [
    {
     "data": {
      "application/vnd.jupyter.widget-view+json": {
       "model_id": "1cb2aaae9420429481b8574b2bca22b6",
       "version_major": 2,
       "version_minor": 0
      },
      "text/plain": [
       "HBox(children=(IntProgress(value=0, max=385557), HTML(value='')))"
      ]
     },
     "metadata": {},
     "output_type": "display_data"
    },
    {
     "name": "stdout",
     "output_type": "stream",
     "text": [
      "\n"
     ]
    }
   ],
   "source": [
    "chno = filter_by_atoms(filtered, LEVEL1)"
   ]
  },
  {
   "cell_type": "code",
   "execution_count": 212,
   "metadata": {},
   "outputs": [
    {
     "data": {
      "text/plain": [
       "183075"
      ]
     },
     "execution_count": 212,
     "metadata": {},
     "output_type": "execute_result"
    }
   ],
   "source": [
    "len(chno)"
   ]
  },
  {
   "cell_type": "code",
   "execution_count": 213,
   "metadata": {},
   "outputs": [
    {
     "data": {
      "application/vnd.jupyter.widget-view+json": {
       "model_id": "2a9f9c7e6fb849c68281b3d2964357f0",
       "version_major": 2,
       "version_minor": 0
      },
      "text/plain": [
       "HBox(children=(IntProgress(value=0, max=385557), HTML(value='')))"
      ]
     },
     "metadata": {},
     "output_type": "display_data"
    },
    {
     "name": "stdout",
     "output_type": "stream",
     "text": [
      "\n"
     ]
    }
   ],
   "source": [
    "one_and_two = filter_by_atoms(filtered, LEVEL1.union(LEVEL2))"
   ]
  },
  {
   "cell_type": "code",
   "execution_count": 214,
   "metadata": {},
   "outputs": [
    {
     "data": {
      "text/plain": [
       "348854"
      ]
     },
     "execution_count": 214,
     "metadata": {},
     "output_type": "execute_result"
    }
   ],
   "source": [
    "len(one_and_two)"
   ]
  },
  {
   "cell_type": "code",
   "execution_count": 215,
   "metadata": {},
   "outputs": [
    {
     "data": {
      "text/plain": [
       "385557"
      ]
     },
     "execution_count": 215,
     "metadata": {},
     "output_type": "execute_result"
    }
   ],
   "source": [
    "len(filtered)"
   ]
  },
  {
   "cell_type": "code",
   "execution_count": 18,
   "metadata": {},
   "outputs": [
    {
     "data": {
      "application/vnd.jupyter.widget-view+json": {
       "model_id": "d36491a898b84ae5aff5c49417fa1dee",
       "version_major": 2,
       "version_minor": 0
      },
      "text/plain": [
       "HBox(children=(IntProgress(value=0, max=385557), HTML(value='')))"
      ]
     },
     "metadata": {},
     "output_type": "display_data"
    },
    {
     "name": "stdout",
     "output_type": "stream",
     "text": [
      "\n"
     ]
    }
   ],
   "source": [
    "three = filter_by_atoms(filtered, LEVEL1 | LEVEL2 | LEVEL3)"
   ]
  },
  {
   "cell_type": "code",
   "execution_count": 19,
   "metadata": {},
   "outputs": [
    {
     "data": {
      "text/plain": [
       "381387"
      ]
     },
     "execution_count": 19,
     "metadata": {},
     "output_type": "execute_result"
    }
   ],
   "source": [
    "len(three)"
   ]
  },
  {
   "cell_type": "code",
   "execution_count": 20,
   "metadata": {},
   "outputs": [],
   "source": [
    "three_cores = [r['reaction_core'] for r in three]"
   ]
  },
  {
   "cell_type": "code",
   "execution_count": 22,
   "metadata": {},
   "outputs": [],
   "source": [
    "with open('cores.txt', 'w') as fn:\n",
    "    for r in three_cores:\n",
    "        fn.write(f\"{r}\\n\")"
   ]
  },
  {
   "cell_type": "code",
   "execution_count": 23,
   "metadata": {},
   "outputs": [],
   "source": [
    "tokenized = [smi_tokenizer(r) for r in three_cores]"
   ]
  },
  {
   "cell_type": "code",
   "execution_count": 24,
   "metadata": {},
   "outputs": [],
   "source": [
    "with open('cores_tokenized.txt', 'w') as fn:\n",
    "    for r in tokenized:\n",
    "        fn.write(f\"{r}\\n\")"
   ]
  },
  {
   "cell_type": "code",
   "execution_count": 218,
   "metadata": {},
   "outputs": [
    {
     "data": {
      "application/vnd.jupyter.widget-view+json": {
       "model_id": "4b5a6c1934a04626a52e2552e7e9985b",
       "version_major": 2,
       "version_minor": 0
      },
      "text/plain": [
       "HBox(children=(IntProgress(value=0, max=385557), HTML(value='')))"
      ]
     },
     "metadata": {},
     "output_type": "display_data"
    },
    {
     "name": "stdout",
     "output_type": "stream",
     "text": [
      "\n"
     ]
    }
   ],
   "source": [
    "four = filter_by_atoms(filtered, LEVEL1 | LEVEL2 | LEVEL3 | LEVEL4)"
   ]
  },
  {
   "cell_type": "code",
   "execution_count": 219,
   "metadata": {},
   "outputs": [
    {
     "data": {
      "text/plain": [
       "384279"
      ]
     },
     "execution_count": 219,
     "metadata": {},
     "output_type": "execute_result"
    }
   ],
   "source": [
    "len(four)"
   ]
  },
  {
   "cell_type": "code",
   "execution_count": 220,
   "metadata": {},
   "outputs": [
    {
     "data": {
      "text/plain": [
       "385557"
      ]
     },
     "execution_count": 220,
     "metadata": {},
     "output_type": "execute_result"
    }
   ],
   "source": [
    "len(filtered)"
   ]
  },
  {
   "cell_type": "markdown",
   "metadata": {},
   "source": [
    "## Токенизация реакций и реакшн коров:"
   ]
  },
  {
   "cell_type": "code",
   "execution_count": 13,
   "metadata": {},
   "outputs": [
    {
     "data": {
      "application/vnd.jupyter.widget-view+json": {
       "model_id": "f9e81537f2ae4e88990addb09a4cec47",
       "version_major": 2,
       "version_minor": 0
      },
      "text/plain": [
       "HBox(children=(IntProgress(value=0, max=385557), HTML(value='')))"
      ]
     },
     "metadata": {},
     "output_type": "display_data"
    },
    {
     "name": "stdout",
     "output_type": "stream",
     "text": [
      "\n"
     ]
    }
   ],
   "source": [
    "three_r = filter_reactions_by_atoms(filtered, LEVEL1 | LEVEL2 | LEVEL3)"
   ]
  },
  {
   "cell_type": "code",
   "execution_count": 14,
   "metadata": {},
   "outputs": [
    {
     "data": {
      "text/plain": [
       "380733"
      ]
     },
     "execution_count": 14,
     "metadata": {},
     "output_type": "execute_result"
    }
   ],
   "source": [
    "len(three_r)"
   ]
  },
  {
   "cell_type": "code",
   "execution_count": 80,
   "metadata": {},
   "outputs": [],
   "source": [
    "def tokenize(reactions: list) -> list:\n",
    "    from copy import deepcopy\n",
    "    result = []\n",
    "    cant_parse = []\n",
    "    for reaction in tqdm_notebook(reactions):\n",
    "        curr = deepcopy(reaction)\n",
    "        try:\n",
    "            curr['reaction_core'] = smi_tokenizer(curr['reaction_core'])\n",
    "            curr['reactants'] = [smi_tokenizer(r) for r in curr['reactants']]\n",
    "            curr['products'] = [smi_tokenizer(r) for r in curr['products']]\n",
    "            result.append(curr)\n",
    "        except:\n",
    "            cant_parse.append(reaction)\n",
    "    return result, cant_parse"
   ]
  },
  {
   "cell_type": "code",
   "execution_count": 81,
   "metadata": {},
   "outputs": [
    {
     "data": {
      "application/vnd.jupyter.widget-view+json": {
       "model_id": "6612ae0c6358475d9323de2cda893199",
       "version_major": 2,
       "version_minor": 0
      },
      "text/plain": [
       "HBox(children=(IntProgress(value=0, max=380733), HTML(value='')))"
      ]
     },
     "metadata": {},
     "output_type": "display_data"
    },
    {
     "name": "stdout",
     "output_type": "stream",
     "text": [
      "\n"
     ]
    }
   ],
   "source": [
    "tokenized, cp = tokenize(three_r)"
   ]
  },
  {
   "cell_type": "code",
   "execution_count": 92,
   "metadata": {},
   "outputs": [],
   "source": [
    "def make_json(reactions: list) -> dict:\n",
    "    res = {}\n",
    "    for r in reactions:\n",
    "        key = r['reaxys_id']\n",
    "        res[key] = r\n",
    "    return res"
   ]
  },
  {
   "cell_type": "code",
   "execution_count": 93,
   "metadata": {},
   "outputs": [],
   "source": [
    "json_res = make_json(tokenized)"
   ]
  },
  {
   "cell_type": "code",
   "execution_count": 97,
   "metadata": {},
   "outputs": [],
   "source": [
    "with open('tokenized_reactions.txt', 'w') as fstream:\n",
    "    for r in tokenized:\n",
    "        json.dump(r, fstream)\n",
    "        fstream.write('\\n')"
   ]
  },
  {
   "cell_type": "code",
   "execution_count": 3,
   "metadata": {},
   "outputs": [],
   "source": [
    "test = []\n",
    "with open('tokenized_reactions.txt') as fstream:\n",
    "    for line in fstream:\n",
    "        test.append(json.loads(line))"
   ]
  },
  {
   "cell_type": "code",
   "execution_count": 4,
   "metadata": {},
   "outputs": [
    {
     "data": {
      "text/plain": [
       "380733"
      ]
     },
     "execution_count": 4,
     "metadata": {},
     "output_type": "execute_result"
    }
   ],
   "source": [
    "len(test)"
   ]
  },
  {
   "cell_type": "code",
   "execution_count": null,
   "metadata": {},
   "outputs": [],
   "source": [
    "reac"
   ]
  }
 ],
 "metadata": {
  "kernelspec": {
   "display_name": "Python 3",
   "language": "python",
   "name": "python3"
  },
  "language_info": {
   "codemirror_mode": {
    "name": "ipython",
    "version": 3
   },
   "file_extension": ".py",
   "mimetype": "text/x-python",
   "name": "python",
   "nbconvert_exporter": "python",
   "pygments_lexer": "ipython3",
   "version": "3.7.4"
  }
 },
 "nbformat": 4,
 "nbformat_minor": 2
}
