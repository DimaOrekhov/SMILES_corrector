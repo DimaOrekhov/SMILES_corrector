{
 "cells": [
  {
   "cell_type": "code",
   "execution_count": 1,
   "metadata": {},
   "outputs": [],
   "source": [
    "import torch\n",
    "from torch import nn\n",
    "from torch.utils.data import Dataset, DataLoader, dataloader\n",
    "from torch.nn.utils.rnn import pad_sequence\n",
    "import pandas as pd\n",
    "import numpy as np\n",
    "import json\n",
    "\n",
    "\n",
    "class DataSplitter:\n",
    "\n",
    "    def __init__(self, split_rate=0.8):\n",
    "        self.split_rate = split_rate\n",
    "        self.train_ids = None\n",
    "        self.test_ids = None\n",
    "\n",
    "    def split(self, infname: str, sep='\\t', id_field='reaxys_id'):\n",
    "        df = pd.read_csv(infname, sep=sep)\n",
    "        unique_ids = df[id_field].unique()\n",
    "        n_ids = unique_ids.shape[0]\n",
    "        self.train_ids = np.random.choice(unique_ids,\n",
    "                                          replace=False,\n",
    "                                          size=int(self.split_rate*n_ids))\n",
    "        self.test_ids = np.array([x for x in unique_ids if x not in self.train_ids])\n",
    "        train = df[df[id_field].isin(self.train_ids)]\n",
    "        test = df[df[id_field].isin(self.test_ids)]\n",
    "        return train, test\n",
    "        \n",
    "\n",
    "class SmilesDataset(Dataset):\n",
    "\n",
    "    def __init__(self, infname: str, sep='\\t', fields_to_leave=['original', 'erroneous']):\n",
    "        df = pd.read_csv(infname, sep=sep)\n",
    "        df = df[fields_to_leave]\n",
    "        # Tokenize\n",
    "        self.token_map = self.get_token_map(df, fields_to_leave)\n",
    "        self.num_to_token = {v : k for k, v in self.token_map.items()}\n",
    "        df['erroneous'] = df['erroneous'].apply(lambda x: \"BOS \" + x + \" EOS\")\n",
    "        df['original'] = df['original'].apply(lambda x: \"BOS \" + x + \" EOS\")\n",
    "        self.inputs = [torch.LongTensor([self.token_map[t] for t in row.split()]) for row in df['erroneous']]\n",
    "        self.labels = [torch.LongTensor([self.token_map[t] for t in row.split()]) for row in df['original']]\n",
    "        self.input_lens = torch.LongTensor([len(x) for x in self.inputs])\n",
    "        self.label_lens = torch.LongTensor([len(x) for x in self.labels])\n",
    "        #max_inp_len = torch.max(self.input_lens).item()\n",
    "        #max_label_len = torch.max(self.label_lens).item()\n",
    "        #pad_len = max(max_inp_len, max_label_len)\n",
    "        #self.inputs = torch.LongTensor([x + [0] * (pad_len - len(x)) for x in self.inputs])\n",
    "        #self.labels = torch.LongTensor([x + [0] * (pad_len - len(x)) for x in self.labels])\n",
    "        #assert self.inputs.shape[0] == self.labels.shape[0]\n",
    "        #assert self.inputs.shape[1] == self.labels.shape[1]\n",
    "        #assert self.input_lens.shape[0] == self.label_lens.shape[0]\n",
    "        \n",
    "    def save_token_map(self, out_fname: str):\n",
    "        with open(out_fname, \"w\") as ostream:\n",
    "            ostream.write(json.dumps(self.token_map))\n",
    "        \n",
    "    def get_token_map(self, df, fields_to_leave):\n",
    "        token_map = {'PAD': 0, 'BOS': 1, 'EOS': 2}\n",
    "        start_idx = 3\n",
    "        token_set = set()\n",
    "        for field in fields_to_leave:\n",
    "            series = df[field]\n",
    "            for entry in series:\n",
    "                curr_set = set(entry.split())\n",
    "                token_set = token_set.union(curr_set)\n",
    "        for token in token_set:\n",
    "            token_map[token] = len(token_map)\n",
    "        return token_map\n",
    "    \n",
    "    @property\n",
    "    def n_tokens(self):\n",
    "        return len(self.token_map)\n",
    "\n",
    "    def as_smiles(self, tokenized: list):\n",
    "        return \"\".join([self.num_to_token[x] for x in tokenized])\n",
    "\n",
    "    def __len__(self):\n",
    "        #return self.inputs.shape[0]\n",
    "        return len(self.inputs)\n",
    "\n",
    "    def __getitem__(self, idx):\n",
    "        return self.inputs[idx], self.labels[idx], self.input_lens[idx], self.label_lens[idx]\n",
    "    \n",
    "    @staticmethod\n",
    "    def collate(data):\n",
    "        inps, labs, in_lens, lab_lens = zip(*data)\n",
    "        inps = pad_sequence(inps)\n",
    "        labs = pad_sequence(labs)\n",
    "        in_lens = torch.stack(in_lens)\n",
    "        lab_lens = torch.stack(lab_lens)\n",
    "        return inps, labs, in_lens, lab_lens\n"
   ]
  },
  {
   "cell_type": "code",
   "execution_count": 2,
   "metadata": {},
   "outputs": [],
   "source": [
    "dataset = SmilesDataset('train_split.tsv')"
   ]
  },
  {
   "cell_type": "code",
   "execution_count": 7,
   "metadata": {},
   "outputs": [],
   "source": [
    "import matplotlib.pyplot as plt"
   ]
  },
  {
   "cell_type": "code",
   "execution_count": 8,
   "metadata": {},
   "outputs": [
    {
     "data": {
      "text/plain": [
       "(array([2.62799e+05, 3.81716e+05, 2.76385e+05, 1.03958e+05, 3.08330e+04,\n",
       "        1.16140e+04, 5.01600e+03, 2.15700e+03, 6.15000e+02, 1.04000e+02]),\n",
       " array([  3. ,  22.4,  41.8,  61.2,  80.6, 100. , 119.4, 138.8, 158.2,\n",
       "        177.6, 197. ]),\n",
       " <a list of 10 Patch objects>)"
      ]
     },
     "execution_count": 8,
     "metadata": {},
     "output_type": "execute_result"
    },
    {
     "data": {
      "image/png": "[encoded data removed]",
      "text/plain": [
       "<Figure size 432x288 with 1 Axes>"
      ]
     },
     "metadata": {
      "needs_background": "light"
     },
     "output_type": "display_data"
    }
   ],
   "source": [
    "plt.hist(dataset.label_lens)"
   ]
  },
  {
   "cell_type": "code",
   "execution_count": 3,
   "metadata": {},
   "outputs": [],
   "source": [
    "loader = DataLoader(dataset, batch_size=16, shuffle=True, collate_fn=SmilesDataset.collate)"
   ]
  },
  {
   "cell_type": "code",
   "execution_count": 4,
   "metadata": {},
   "outputs": [],
   "source": [
    "for batch in loader:\n",
    "    break"
   ]
  },
  {
   "cell_type": "code",
   "execution_count": 7,
   "metadata": {},
   "outputs": [
    {
     "data": {
      "text/plain": [
       "torch.Size([118, 64])"
      ]
     },
     "execution_count": 7,
     "metadata": {},
     "output_type": "execute_result"
    }
   ],
   "source": [
    "batch[0].shape"
   ]
  },
  {
   "cell_type": "code",
   "execution_count": 9,
   "metadata": {},
   "outputs": [],
   "source": [
    "emb = nn.Embedding(num_embeddings=dataset.n_tokens, embedding_dim=128, padding_idx=0)"
   ]
  },
  {
   "cell_type": "code",
   "execution_count": 29,
   "metadata": {},
   "outputs": [],
   "source": [
    "pe = PositionalEncoding(128)"
   ]
  },
  {
   "cell_type": "code",
   "execution_count": 31,
   "metadata": {},
   "outputs": [
    {
     "data": {
      "text/plain": [
       "torch.Size([5000, 1, 128])"
      ]
     },
     "execution_count": 31,
     "metadata": {},
     "output_type": "execute_result"
    }
   ],
   "source": [
    "pe.pe.shape"
   ]
  },
  {
   "cell_type": "code",
   "execution_count": 33,
   "metadata": {},
   "outputs": [],
   "source": [
    "x = pe(emb(batch[0]))"
   ]
  },
  {
   "cell_type": "code",
   "execution_count": 38,
   "metadata": {},
   "outputs": [
    {
     "data": {
      "text/plain": [
       "torch.Size([118, 64, 128])"
      ]
     },
     "execution_count": 38,
     "metadata": {},
     "output_type": "execute_result"
    }
   ],
   "source": [
    "x.shape"
   ]
  },
  {
   "cell_type": "code",
   "execution_count": 10,
   "metadata": {},
   "outputs": [],
   "source": [
    "model = Transformer(dataset.n_tokens, 16, 2, 16, 2)"
   ]
  },
  {
   "cell_type": "code",
   "execution_count": 11,
   "metadata": {},
   "outputs": [
    {
     "ename": "RuntimeError",
     "evalue": "expand(torch.LongTensor{[2, 16]}, size=[16]): the number of sizes provided (1) must be greater or equal to the number of dimensions in the tensor (2)",
     "output_type": "error",
     "traceback": [
      "\u001b[0;31m---------------------------------------------------------------------------\u001b[0m",
      "\u001b[0;31mRuntimeError\u001b[0m                              Traceback (most recent call last)",
      "\u001b[0;32m<ipython-input-11-4474d0bcc4e8>\u001b[0m in \u001b[0;36m<module>\u001b[0;34m\u001b[0m\n\u001b[0;32m----> 1\u001b[0;31m \u001b[0mout\u001b[0m \u001b[0;34m=\u001b[0m \u001b[0mmodel\u001b[0m\u001b[0;34m(\u001b[0m\u001b[0mbatch\u001b[0m\u001b[0;34m[\u001b[0m\u001b[0;36m0\u001b[0m\u001b[0;34m]\u001b[0m\u001b[0;34m)\u001b[0m\u001b[0;34m\u001b[0m\u001b[0;34m\u001b[0m\u001b[0m\n\u001b[0m",
      "\u001b[0;32m~/miniconda3/envs/dl/lib/python3.7/site-packages/torch/nn/modules/module.py\u001b[0m in \u001b[0;36m__call__\u001b[0;34m(self, *input, **kwargs)\u001b[0m\n\u001b[1;32m    545\u001b[0m             \u001b[0mresult\u001b[0m \u001b[0;34m=\u001b[0m \u001b[0mself\u001b[0m\u001b[0;34m.\u001b[0m\u001b[0m_slow_forward\u001b[0m\u001b[0;34m(\u001b[0m\u001b[0;34m*\u001b[0m\u001b[0minput\u001b[0m\u001b[0;34m,\u001b[0m \u001b[0;34m**\u001b[0m\u001b[0mkwargs\u001b[0m\u001b[0;34m)\u001b[0m\u001b[0;34m\u001b[0m\u001b[0;34m\u001b[0m\u001b[0m\n\u001b[1;32m    546\u001b[0m         \u001b[0;32melse\u001b[0m\u001b[0;34m:\u001b[0m\u001b[0;34m\u001b[0m\u001b[0;34m\u001b[0m\u001b[0m\n\u001b[0;32m--> 547\u001b[0;31m             \u001b[0mresult\u001b[0m \u001b[0;34m=\u001b[0m \u001b[0mself\u001b[0m\u001b[0;34m.\u001b[0m\u001b[0mforward\u001b[0m\u001b[0;34m(\u001b[0m\u001b[0;34m*\u001b[0m\u001b[0minput\u001b[0m\u001b[0;34m,\u001b[0m \u001b[0;34m**\u001b[0m\u001b[0mkwargs\u001b[0m\u001b[0;34m)\u001b[0m\u001b[0;34m\u001b[0m\u001b[0;34m\u001b[0m\u001b[0m\n\u001b[0m\u001b[1;32m    548\u001b[0m         \u001b[0;32mfor\u001b[0m \u001b[0mhook\u001b[0m \u001b[0;32min\u001b[0m \u001b[0mself\u001b[0m\u001b[0;34m.\u001b[0m\u001b[0m_forward_hooks\u001b[0m\u001b[0;34m.\u001b[0m\u001b[0mvalues\u001b[0m\u001b[0;34m(\u001b[0m\u001b[0;34m)\u001b[0m\u001b[0;34m:\u001b[0m\u001b[0;34m\u001b[0m\u001b[0;34m\u001b[0m\u001b[0m\n\u001b[1;32m    549\u001b[0m             \u001b[0mhook_result\u001b[0m \u001b[0;34m=\u001b[0m \u001b[0mhook\u001b[0m\u001b[0;34m(\u001b[0m\u001b[0mself\u001b[0m\u001b[0;34m,\u001b[0m \u001b[0minput\u001b[0m\u001b[0;34m,\u001b[0m \u001b[0mresult\u001b[0m\u001b[0;34m)\u001b[0m\u001b[0;34m\u001b[0m\u001b[0;34m\u001b[0m\u001b[0m\n",
      "\u001b[0;32m<ipython-input-9-d07a0ada8de3>\u001b[0m in \u001b[0;36mforward\u001b[0;34m(self, x, max_iter, bos_idx)\u001b[0m\n\u001b[1;32m     58\u001b[0m             \u001b[0mx\u001b[0m \u001b[0;34m=\u001b[0m \u001b[0mself\u001b[0m\u001b[0;34m.\u001b[0m\u001b[0mdecoder\u001b[0m\u001b[0;34m(\u001b[0m\u001b[0mx\u001b[0m\u001b[0;34m,\u001b[0m \u001b[0mmemory\u001b[0m\u001b[0;34m)\u001b[0m\u001b[0;34m\u001b[0m\u001b[0;34m\u001b[0m\u001b[0m\n\u001b[1;32m     59\u001b[0m             \u001b[0mx\u001b[0m \u001b[0;34m=\u001b[0m \u001b[0mself\u001b[0m\u001b[0;34m.\u001b[0m\u001b[0mout_linear\u001b[0m\u001b[0;34m(\u001b[0m\u001b[0mx\u001b[0m\u001b[0;34m)\u001b[0m\u001b[0;34m\u001b[0m\u001b[0;34m\u001b[0m\u001b[0m\n\u001b[0;32m---> 60\u001b[0;31m             \u001b[0mcurr_seq\u001b[0m\u001b[0;34m[\u001b[0m\u001b[0mi\u001b[0m\u001b[0;34m+\u001b[0m\u001b[0;36m1\u001b[0m\u001b[0;34m]\u001b[0m \u001b[0;34m=\u001b[0m \u001b[0mtorch\u001b[0m\u001b[0;34m.\u001b[0m\u001b[0margmax\u001b[0m\u001b[0;34m(\u001b[0m\u001b[0mx\u001b[0m\u001b[0;34m,\u001b[0m \u001b[0mdim\u001b[0m\u001b[0;34m=\u001b[0m\u001b[0;34m-\u001b[0m\u001b[0;36m1\u001b[0m\u001b[0;34m)\u001b[0m \u001b[0;31m#?\u001b[0m\u001b[0;34m\u001b[0m\u001b[0;34m\u001b[0m\u001b[0m\n\u001b[0m\u001b[1;32m     61\u001b[0m             \u001b[0mlogits\u001b[0m\u001b[0;34m.\u001b[0m\u001b[0mappend\u001b[0m\u001b[0;34m(\u001b[0m\u001b[0mx\u001b[0m\u001b[0;34m[\u001b[0m\u001b[0;34m-\u001b[0m\u001b[0;36m1\u001b[0m\u001b[0;34m]\u001b[0m\u001b[0;34m)\u001b[0m\u001b[0;34m\u001b[0m\u001b[0;34m\u001b[0m\u001b[0m\n\u001b[1;32m     62\u001b[0m         \u001b[0;32mreturn\u001b[0m \u001b[0mx\u001b[0m\u001b[0;34m\u001b[0m\u001b[0;34m\u001b[0m\u001b[0m\n",
      "\u001b[0;31mRuntimeError\u001b[0m: expand(torch.LongTensor{[2, 16]}, size=[16]): the number of sizes provided (1) must be greater or equal to the number of dimensions in the tensor (2)"
     ]
    }
   ],
   "source": [
    "out = model(batch[0])"
   ]
  },
  {
   "cell_type": "code",
   "execution_count": 15,
   "metadata": {},
   "outputs": [
    {
     "data": {
      "text/plain": [
       "torch.Size([88, 16])"
      ]
     },
     "execution_count": 15,
     "metadata": {},
     "output_type": "execute_result"
    }
   ],
   "source": [
    "batch[0].shape"
   ]
  },
  {
   "cell_type": "code",
   "execution_count": 16,
   "metadata": {},
   "outputs": [
    {
     "data": {
      "text/plain": [
       "torch.Size([1, 16, 29])"
      ]
     },
     "execution_count": 16,
     "metadata": {},
     "output_type": "execute_result"
    }
   ],
   "source": [
    "out.shape"
   ]
  },
  {
   "cell_type": "code",
   "execution_count": 24,
   "metadata": {},
   "outputs": [
    {
     "data": {
      "text/plain": [
       "tensor([[28, 28, 28, 28, 28, 28, 28, 28, 28, 28, 28, 28, 17, 28, 28, 28]])"
      ]
     },
     "execution_count": 24,
     "metadata": {},
     "output_type": "execute_result"
    }
   ],
   "source": [
    "torch.argmax(out, dim=-1)"
   ]
  },
  {
   "cell_type": "code",
   "execution_count": 9,
   "metadata": {},
   "outputs": [],
   "source": [
    "import math\n",
    "from torch import nn\n",
    "import torch\n",
    "\n",
    "\n",
    "class PositionalEncoding(nn.Module):\n",
    "\n",
    "    def __init__(self, d_model, dropout=0.1, max_len=5000):\n",
    "        super(PositionalEncoding, self).__init__()\n",
    "        self.dropout = nn.Dropout(p=dropout)\n",
    "\n",
    "        pe = torch.zeros(max_len, d_model)\n",
    "        position = torch.arange(0, max_len, dtype=torch.float).unsqueeze(1)\n",
    "        div_term = torch.exp(torch.arange(0, d_model, 2).float() * (-math.log(10000.0) / d_model))\n",
    "        pe[:, 0::2] = torch.sin(position * div_term)\n",
    "        pe[:, 1::2] = torch.cos(position * div_term)\n",
    "        pe = pe.unsqueeze(0).transpose(0, 1)\n",
    "        self.register_buffer('pe', pe)\n",
    "\n",
    "    def forward(self, x):\n",
    "        x = x + self.pe[:x.size(0), :]\n",
    "        return self.dropout(x)\n",
    "\n",
    "\n",
    "class Transformer(nn.Module):\n",
    "    \n",
    "    def __init__(self, n_emb, d_model, n_heads, h_dim, n_layers):\n",
    "        super().__init__()\n",
    "        self.embedding = nn.Embedding(n_emb, d_model, padding_idx=0)\n",
    "        self.positional = PositionalEncoding(d_model)\n",
    "        self.encoder = nn.TransformerEncoder(nn.TransformerEncoderLayer(d_model, n_heads, h_dim),\n",
    "                                             n_layers)\n",
    "        self.decoder = nn.TransformerDecoder(nn.TransformerDecoderLayer(d_model, n_heads, h_dim),\n",
    "                                             n_layers)\n",
    "        self.out_linear = nn.Linear(d_model, n_emb)\n",
    "\n",
    "    @staticmethod\n",
    "    def get_square_subsequent_mask(size):\n",
    "        mask = (torch.triu(torch.ones(size, size)) == 1).transpose(0, 1)\n",
    "        mask = mask.float().masked_fill(mask == 0, float('-inf')).masked_fill(mask == 1, float(0.0))\n",
    "        return mask\n",
    "\n",
    "    @property\n",
    "    def device(self):\n",
    "        return next(self.parameters()).device\n",
    "\n",
    "    def forward(self, x, max_iter=200, bos_idx=1):\n",
    "        # Work in progress\n",
    "        x = self.embedding(x)\n",
    "        x = self.positional(x)\n",
    "        memory = self.encoder(x)\n",
    "        curr_seq = torch.zeros(max_iter, x.shape[1], dtype=torch.long)\n",
    "        curr_seq[0] = torch.full((x.shape[1], ), bos_idx)\n",
    "        logits = []\n",
    "        for i in range(max_iter):\n",
    "            with torch.no_grad():\n",
    "                x = self.embedding(curr_seq[:i+1])\n",
    "            x = self.decoder(x, memory)\n",
    "            x = self.out_linear(x)\n",
    "            curr_seq[i+1] = torch.argmax(x[-1], dim=-1) #?\n",
    "            logits.append(x[-1])\n",
    "        return x\n",
    "\n",
    "\n",
    "class Trainer:\n",
    "\n",
    "    def __init__(self, model, log_folder: str, weight_folder: str):\n",
    "        self.device = torch.device('cuda' if torch.cuda.is_available() else 'cpu')\n",
    "        self.model = model.to(self.device)\n",
    "        self.log_folder = log_folder\n",
    "        self.weight_folder = weight_folder\n",
    "\n",
    "    def fit(self, dataset):\n",
    "        pass\n",
    "\n",
    "    def log(self):\n",
    "        pass\n",
    "    \n",
    "    def save_model(self):\n",
    "        pass"
   ]
  },
  {
   "cell_type": "code",
   "execution_count": 14,
   "metadata": {},
   "outputs": [],
   "source": [
    "z = torch.zeros(200, 21, dtype=\"torch.Long\")"
   ]
  },
  {
   "cell_type": "code",
   "execution_count": 18,
   "metadata": {},
   "outputs": [
    {
     "data": {
      "text/plain": [
       "torch.Size([1, 21])"
      ]
     },
     "execution_count": 18,
     "metadata": {},
     "output_type": "execute_result"
    }
   ],
   "source": [
    "z[:1].shape"
   ]
  },
  {
   "cell_type": "code",
   "execution_count": 9,
   "metadata": {},
   "outputs": [
    {
     "data": {
      "text/plain": [
       "torch.Size([1])"
      ]
     },
     "execution_count": 9,
     "metadata": {},
     "output_type": "execute_result"
    }
   ],
   "source": [
    "torch.full((1,), 1).shape"
   ]
  },
  {
   "cell_type": "code",
   "execution_count": null,
   "metadata": {},
   "outputs": [],
   "source": []
  }
 ],
 "metadata": {
  "kernelspec": {
   "display_name": "Python 3",
   "language": "python",
   "name": "python3"
  },
  "language_info": {
   "codemirror_mode": {
    "name": "ipython",
    "version": 3
   },
   "file_extension": ".py",
   "mimetype": "text/x-python",
   "name": "python",
   "nbconvert_exporter": "python",
   "pygments_lexer": "ipython3",
   "version": "3.7.4"
  }
 },
 "nbformat": 4,
 "nbformat_minor": 2
}
